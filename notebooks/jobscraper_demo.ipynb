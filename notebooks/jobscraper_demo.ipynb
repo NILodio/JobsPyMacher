{
 "cells": [
  {
   "cell_type": "code",
   "execution_count": 9,
   "metadata": {},
   "outputs": [],
   "source": [
    "from jobscrapper import scrape_jobs\n",
    "import pandas as pd\n",
    "from IPython.display import display, HTML"
   ]
  },
  {
   "cell_type": "code",
   "execution_count": 10,
   "metadata": {},
   "outputs": [],
   "source": [
    "pd.set_option('display.max_columns', None)\n",
    "pd.set_option('display.max_rows', None)\n",
    "pd.set_option('display.width', None)\n",
    "pd.set_option('display.max_colwidth', 50)"
   ]
  },
  {
   "cell_type": "code",
   "execution_count": 14,
   "metadata": {},
   "outputs": [
    {
     "name": "stderr",
     "output_type": "stream",
     "text": [
      "2024-04-02 13:03:04,730 - /Users/ddiaz/study/jobspymacher/src/jobscrapper/scrapers/utils.py - INFO - Indeed search page: 1\n",
      "2024-04-02 13:03:06,309 - /Users/ddiaz/study/jobspymacher/src/jobscrapper/scrapers/utils.py - INFO - Indeed finished scraping\n"
     ]
    }
   ],
   "source": [
    "# example 2 - remote USA & hyperlinks\n",
    "jobs = scrape_jobs(\n",
    "    site_name=[\"indeed\"],\n",
    "    search_term=\"software engineer\",\n",
    "    country_indeed=\"CANADA\",\n",
    "    hyperlinks=True,\n",
    "    is_remote=True,\n",
    "    results_wanted=100, \n",
    ")"
   ]
  },
  {
   "cell_type": "code",
   "execution_count": null,
   "metadata": {},
   "outputs": [],
   "source": []
  }
 ],
 "metadata": {
  "kernelspec": {
   "display_name": "jobspymacher",
   "language": "python",
   "name": "python3"
  },
  "language_info": {
   "codemirror_mode": {
    "name": "ipython",
    "version": 3
   },
   "file_extension": ".py",
   "mimetype": "text/x-python",
   "name": "python",
   "nbconvert_exporter": "python",
   "pygments_lexer": "ipython3",
   "version": "3.10.13"
  }
 },
 "nbformat": 4,
 "nbformat_minor": 2
}
